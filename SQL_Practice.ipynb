{
 "cells": [
  {
   "cell_type": "markdown",
   "id": "c9454bbc-93b4-4ffe-93a9-d5bb71985760",
   "metadata": {},
   "source": [
    "# SQL Practice\n",
    "\n",
    "The dataset and exercises are from [kiwidamien repository](https://github.com/kiwidamien/SQL_practice)"
   ]
  },
  {
   "cell_type": "code",
   "execution_count": 2,
   "id": "2d439fbb-11fd-4fba-9779-205819555b45",
   "metadata": {},
   "outputs": [],
   "source": [
    "import pandas as pd\n",
    "from pandasql import sqldf\n",
    "import sqlite3\n",
    "import math"
   ]
  },
  {
   "cell_type": "code",
   "execution_count": 3,
   "id": "58cdcb39-2728-45a5-a2de-00510574da56",
   "metadata": {},
   "outputs": [],
   "source": [
    "pysqldf = lambda q: sqldf(q, globals())"
   ]
  },
  {
   "cell_type": "markdown",
   "id": "a62d8e7b-5e19-407f-beb2-fd5f8565e133",
   "metadata": {},
   "source": [
    "## 1. Seattle Weather"
   ]
  },
  {
   "cell_type": "code",
   "execution_count": 5,
   "id": "dcf38e24-5c04-4e7e-8f49-3f0f3ff94889",
   "metadata": {},
   "outputs": [
    {
     "data": {
      "text/plain": [
       "25548"
      ]
     },
     "execution_count": 5,
     "metadata": {},
     "output_type": "execute_result"
    }
   ],
   "source": [
    "weather = pd.read_csv(\"01_seattle_weather/cleaned_weather.csv\")\n",
    "conn_1 = sqlite3.connect(\":memory:\")\n",
    "weather.to_sql('weather', conn_1, index=False)\n"
   ]
  },
  {
   "cell_type": "markdown",
   "id": "914e6ea9-b312-4e6e-8c6f-16972352c46c",
   "metadata": {},
   "source": [
    "**1. Select all rows from December 1st, 2000 to December 15th, 2000 (inclusive)**"
   ]
  },
  {
   "cell_type": "code",
   "execution_count": 7,
   "id": "d89cfefe-4868-43bb-97c5-643378854db8",
   "metadata": {},
   "outputs": [
    {
     "name": "stdout",
     "output_type": "stream",
     "text": [
      "          DATE  PRCP  TMAX  TMIN  RAIN\n",
      "0   2000-12-01  0.04    55    39     1\n",
      "1   2000-12-02  0.18    51    37     1\n",
      "2   2000-12-03  0.00    44    34     0\n",
      "3   2000-12-04  0.00    51    37     0\n",
      "4   2000-12-05  0.00    50    36     0\n",
      "5   2000-12-06  0.00    50    35     0\n",
      "6   2000-12-07  0.00    40    34     0\n",
      "7   2000-12-08  0.02    45    30     1\n",
      "8   2000-12-09  0.06    43    36     1\n",
      "9   2000-12-10  0.00    40    30     0\n",
      "10  2000-12-11  0.00    37    28     0\n",
      "11  2000-12-12  0.00    37    28     0\n",
      "12  2000-12-13  0.00    37    30     0\n",
      "13  2000-12-14  0.26    46    28     1\n",
      "14  2000-12-15  0.00    42    35     0\n"
     ]
    }
   ],
   "source": [
    "query = \"\"\"\n",
    "SELECT *\n",
    "FROM weather\n",
    "WHERE DATE >= \"2000-12-01\"\n",
    "AND DATE <= \"2000-12-15\"\n",
    "\"\"\"\n",
    "\n",
    "result =  pd.read_sql_query(query, conn_1)\n",
    "print(result)"
   ]
  },
  {
   "cell_type": "markdown",
   "id": "19e4124a-7934-4282-b0a9-c7078d2ae93e",
   "metadata": {},
   "source": [
    "**2. Get the average maximum temperature for every year from the year 2000 onward. Order the results by year (ascending)**"
   ]
  },
  {
   "cell_type": "code",
   "execution_count": 9,
   "id": "0856422c-7506-41cb-b26d-8862847b4e16",
   "metadata": {},
   "outputs": [
    {
     "name": "stdout",
     "output_type": "stream",
     "text": [
      "    YEAR  AVG(TMAX)\n",
      "0   2000  58.674863\n",
      "1   2001  58.473973\n",
      "2   2002  58.893151\n",
      "3   2003  60.441096\n",
      "4   2004  60.622951\n",
      "5   2005  60.148352\n",
      "6   2006  61.038356\n",
      "7   2007  59.202740\n",
      "8   2008  58.494536\n",
      "9   2009  59.912329\n",
      "10  2010  59.663014\n",
      "11  2011  58.139726\n",
      "12  2012  59.502732\n",
      "13  2013  60.901370\n",
      "14  2014  62.594521\n",
      "15  2015  63.369863\n",
      "16  2016  62.546448\n",
      "17  2017  61.727011\n"
     ]
    }
   ],
   "source": [
    "query = \"\"\"\n",
    "SELECT STRFTIME('%Y', DATE) AS YEAR,\n",
    "AVG(TMAX)\n",
    "FROM weather\n",
    "GROUP BY YEAR\n",
    "HAVING YEAR >= \"2000\"\n",
    "\"\"\"\n",
    "\n",
    "result =  pd.read_sql_query(query, conn_1)\n",
    "print(result)"
   ]
  },
  {
   "cell_type": "markdown",
   "id": "ac1c9290-7257-4e48-99da-4e0100872c86",
   "metadata": {},
   "source": [
    "**3 Get the standard deviation of the maximum temperature per year, from 2000 onward. Order by year (ascending)**"
   ]
  },
  {
   "cell_type": "code",
   "execution_count": 11,
   "id": "c966aab5-ae72-44dc-8cff-3b9b7865c0d1",
   "metadata": {},
   "outputs": [],
   "source": [
    "conn_1.create_function(\"SQRT\", 1, math.sqrt)"
   ]
  },
  {
   "cell_type": "code",
   "execution_count": 12,
   "id": "a6325d42-3732-4d97-a791-6006092a622b",
   "metadata": {},
   "outputs": [
    {
     "name": "stdout",
     "output_type": "stream",
     "text": [
      "    YEAR  mean_TMAX  variance_TMAX  standard_deviation_TMAX\n",
      "0   2000  58.674863     131.574614                11.470598\n",
      "1   2001  58.473973     124.545213                11.159983\n",
      "2   2002  58.893151     151.026939                12.289302\n",
      "3   2003  60.441096     165.238311                12.854505\n",
      "4   2004  60.622951     158.606468                12.593906\n",
      "5   2005  60.148352     141.054915                11.876654\n",
      "6   2006  61.038356     169.790310                13.030361\n",
      "7   2007  59.202740     166.391773                12.899294\n",
      "8   2008  58.494536     168.463085                12.979333\n",
      "9   2009  59.912329     202.019711                14.213364\n",
      "10  2010  59.663014     124.196029                11.144327\n",
      "11  2011  58.139726     154.635271                12.435243\n",
      "12  2012  59.502732     161.954911                12.726151\n",
      "13  2013  60.901370     184.516299                13.583678\n",
      "14  2014  62.594521     170.723258                13.066111\n",
      "15  2015  63.369863     173.285119                13.163781\n",
      "16  2016  62.546448     159.619427                12.634058\n",
      "17  2017  61.727011     200.928351                14.174920\n"
     ]
    }
   ],
   "source": [
    "query = \"\"\"\n",
    "SELECT \n",
    "    STRFTIME('%Y', DATE) AS YEAR,\n",
    "    AVG(TMAX) AS mean_TMAX,\n",
    "    AVG(TMAX * TMAX) - AVG(TMAX) * AVG(TMAX) AS variance_TMAX,\n",
    "    SQRT(AVG(TMAX * TMAX) - AVG(TMAX) * AVG(TMAX)) AS standard_deviation_TMAX\n",
    "FROM weather\n",
    "GROUP BY YEAR\n",
    "HAVING YEAR >= \"2000\"\n",
    "\"\"\"\n",
    "\n",
    "result =  pd.read_sql_query(query, conn_1)\n",
    "print(result)"
   ]
  },
  {
   "cell_type": "markdown",
   "id": "c5fa0ddc-049d-42d7-b507-b372d8ccfc1e",
   "metadata": {},
   "source": [
    "**4. What are the 10 hottest days on record? Take hottest to mean 'highest maximum temperature'**"
   ]
  },
  {
   "cell_type": "code",
   "execution_count": 14,
   "id": "2ff4b739-91b4-4664-8bca-bf2a176091ae",
   "metadata": {},
   "outputs": [
    {
     "name": "stdout",
     "output_type": "stream",
     "text": [
      "         DATE  PRCP  TMAX  TMIN  RAIN\n",
      "0  2009-07-29   0.0   103    71     0\n",
      "1  1994-07-20   0.0   100    65     0\n",
      "2  1960-08-09   0.0    99    59     0\n",
      "3  1981-08-09   0.0    99    68     0\n",
      "4  1991-07-23   0.0    99    65     0\n",
      "5  1960-08-08   0.0    98    66     0\n",
      "6  1967-08-16   0.0    98    59     0\n",
      "7  1979-07-16   0.0    98    63     0\n",
      "8  1981-08-10   0.0    98    67     0\n",
      "9  1988-09-02   0.0    98    59     0\n"
     ]
    }
   ],
   "source": [
    "query = \"\"\"\n",
    "SELECT *\n",
    "FROM weather\n",
    "ORDER BY TMAX DESC\n",
    "LIMIT 10\n",
    "\"\"\"\n",
    "\n",
    "result =  pd.read_sql_query(query, conn_1)\n",
    "print(result)"
   ]
  },
  {
   "cell_type": "markdown",
   "id": "6407b2f6-5acc-465c-9f8c-db154ca22303",
   "metadata": {},
   "source": [
    "**5. In 2016, what fraction of days did it rain?**"
   ]
  },
  {
   "cell_type": "code",
   "execution_count": 16,
   "id": "9a4fcb39-ff8e-4786-a8d6-b1678184adc7",
   "metadata": {},
   "outputs": [
    {
     "name": "stdout",
     "output_type": "stream",
     "text": [
      "   rain_fraction_2016\n",
      "0            0.469945\n"
     ]
    }
   ],
   "source": [
    "query = \"\"\"\n",
    "SELECT AVG(RAIN) AS rain_fraction_2016\n",
    "FROM weather\n",
    "WHERE DATE >= \"2016-01-01\"\n",
    "AND DATE <= \"2016-12-31\"\n",
    "\"\"\"\n",
    "\n",
    "result =  pd.read_sql_query(query, conn_1)\n",
    "print(result)"
   ]
  },
  {
   "cell_type": "markdown",
   "id": "4240ef6b-17d4-41b1-a3d3-c66ee51353ad",
   "metadata": {},
   "source": [
    "**6. What is the 75th percentile for the amount of rain that fell on a day where there was some rain in 2016?**"
   ]
  },
  {
   "cell_type": "code",
   "execution_count": 18,
   "id": "383bb63d-883a-48a9-a006-8ae9d60bf03c",
   "metadata": {},
   "outputs": [
    {
     "name": "stdout",
     "output_type": "stream",
     "text": [
      "   PRCP\n",
      "0  0.33\n"
     ]
    }
   ],
   "source": [
    "query = \"\"\"\n",
    "SELECT PRCP\n",
    "FROM (\n",
    "    SELECT PRCP\n",
    "    FROM weather\n",
    "    WHERE \n",
    "        PRCP > 0 AND\n",
    "        STRFTIME('%Y', DATE) = '2016'\n",
    "    ORDER BY PRCP\n",
    "    LIMIT 1 OFFSET (\n",
    "        (SELECT COUNT(*) * 0.75 \n",
    "         FROM weather\n",
    "         WHERE PRCP > 0 AND STRFTIME('%Y', DATE) = '2016')\n",
    "    )\n",
    ") AS sub\n",
    "\"\"\"\n",
    "\n",
    "result =  pd.read_sql_query(query, conn_1)\n",
    "print(result)"
   ]
  },
  {
   "cell_type": "markdown",
   "id": "d16e9c68-12f2-48d5-a191-fce341ed90bc",
   "metadata": {},
   "source": [
    "**7. What is the 75th percentile for the amount of rain that fell on any day in 2016?**"
   ]
  },
  {
   "cell_type": "code",
   "execution_count": 20,
   "id": "52796e7a-c4bc-4fb2-a838-ddd0864e2fd6",
   "metadata": {},
   "outputs": [
    {
     "name": "stdout",
     "output_type": "stream",
     "text": [
      "   PRCP\n",
      "0  0.15\n"
     ]
    }
   ],
   "source": [
    "query = \"\"\"\n",
    "SELECT PRCP\n",
    "    FROM weather\n",
    "    WHERE \n",
    "        STRFTIME('%Y', DATE) = '2016'\n",
    "    ORDER BY PRCP\n",
    "    LIMIT 1 OFFSET ROUND((SELECT COUNT(*) * 0.75 \n",
    "         FROM weather\n",
    "         WHERE STRFTIME('%Y', DATE) = '2016'))\n",
    "    \n",
    "\"\"\"\n",
    "\n",
    "result =  pd.read_sql_query(query, conn_1)\n",
    "print(result)"
   ]
  },
  {
   "cell_type": "markdown",
   "id": "03990658-de1b-4892-be0a-67d3ef6a3b31",
   "metadata": {},
   "source": [
    "**8. Get the 10 years with the hottest average maximum temperature in July. Order from hottest to coolest**"
   ]
  },
  {
   "cell_type": "code",
   "execution_count": 22,
   "id": "008c840b-cff9-4bdf-b04c-775ffe3a3105",
   "metadata": {},
   "outputs": [
    {
     "name": "stdout",
     "output_type": "stream",
     "text": [
      "   YEAR  avg_july_high_temp\n",
      "0  2015           82.580645\n",
      "1  1958           81.419355\n",
      "2  2009           80.967742\n",
      "3  1985           80.935484\n",
      "4  2014           80.419355\n",
      "5  1960           79.645161\n",
      "6  1965           79.451613\n",
      "7  1990           79.193548\n",
      "8  2013           78.967742\n",
      "9  2003           78.967742\n"
     ]
    }
   ],
   "source": [
    "query = \"\"\"\n",
    "SELECT \n",
    "    STRFTIME('%Y', DATE) AS YEAR,\n",
    "    AVG(TMAX) AS avg_july_high_temp\n",
    "FROM weather   \n",
    "WHERE STRFTIME('%m', DATE) = \"07\"\n",
    "GROUP BY YEAR\n",
    "ORDER BY avg_july_high_temp DESC\n",
    "LIMIT 10\n",
    "\"\"\"\n",
    "\n",
    "result =  pd.read_sql_query(query, conn_1)\n",
    "print(result)"
   ]
  },
  {
   "cell_type": "markdown",
   "id": "ccac2213-4831-4a46-ae4d-3af8d3db875d",
   "metadata": {},
   "source": [
    "**9. Get the 10 years with the coldest average minimum temperature in December. Order from coolest to hottest**"
   ]
  },
  {
   "cell_type": "code",
   "execution_count": 24,
   "id": "db510cbd-b0a8-4463-b158-a67cf95dd4bd",
   "metadata": {},
   "outputs": [
    {
     "name": "stdout",
     "output_type": "stream",
     "text": [
      "   YEAR  avg_dec_min_temp\n",
      "0  1990         30.387097\n",
      "1  1948         30.806452\n",
      "2  1985         30.935484\n",
      "3  1951         31.225806\n",
      "4  1964         31.483871\n",
      "5  1983         31.516129\n",
      "6  1968         32.032258\n",
      "7  1984         32.096774\n",
      "8  2009         32.096774\n",
      "9  1978         32.161290\n"
     ]
    }
   ],
   "source": [
    "query = \"\"\"\n",
    "SELECT \n",
    "    STRFTIME('%Y', DATE) AS YEAR,\n",
    "    AVG(TMIN) AS avg_dec_min_temp\n",
    "FROM weather   \n",
    "WHERE STRFTIME('%m', DATE) = \"12\"\n",
    "GROUP BY YEAR\n",
    "ORDER BY avg_dec_min_temp ASC\n",
    "LIMIT 10\n",
    "\"\"\"\n",
    "\n",
    "result =  pd.read_sql_query(query, conn_1)\n",
    "print(result)"
   ]
  },
  {
   "cell_type": "markdown",
   "id": "9d5ea517-4fca-441e-8321-a4344e0c3f65",
   "metadata": {},
   "source": [
    "**10. Repeat the last question, but round the temperatures to 3 decimal places**"
   ]
  },
  {
   "cell_type": "code",
   "execution_count": 26,
   "id": "01ebb5cc-b6ba-4604-8f1a-a1e5b791a01b",
   "metadata": {},
   "outputs": [
    {
     "name": "stdout",
     "output_type": "stream",
     "text": [
      "   YEAR  avg_dec_min_temp\n",
      "0  1990            30.387\n",
      "1  1948            30.806\n",
      "2  1985            30.935\n",
      "3  1951            31.226\n",
      "4  1964            31.484\n",
      "5  1983            31.516\n",
      "6  1968            32.032\n",
      "7  1984            32.097\n",
      "8  2009            32.097\n",
      "9  1978            32.161\n"
     ]
    }
   ],
   "source": [
    "query = \"\"\"\n",
    "SELECT \n",
    "    STRFTIME('%Y', DATE) AS YEAR,\n",
    "    ROUND(AVG(TMIN), 3) AS avg_dec_min_temp\n",
    "FROM weather   \n",
    "WHERE STRFTIME('%m', DATE) = \"12\"\n",
    "GROUP BY YEAR\n",
    "ORDER BY avg_dec_min_temp ASC\n",
    "LIMIT 10\n",
    "\"\"\"\n",
    "\n",
    "result =  pd.read_sql_query(query, conn_1)\n",
    "print(result)"
   ]
  },
  {
   "cell_type": "markdown",
   "id": "96058010-c287-4018-92fa-51f2076f2c15",
   "metadata": {},
   "source": [
    "**11. Give the average inches of rain that fell per day for each month, where the average is taken over 2000 - 2010 (inclusive)**"
   ]
  },
  {
   "cell_type": "code",
   "execution_count": 28,
   "id": "43abf808-a713-4dac-8cfb-2996b2801be1",
   "metadata": {},
   "outputs": [
    {
     "name": "stdout",
     "output_type": "stream",
     "text": [
      "   month  avg_daily_inches_rain\n",
      "0     01               0.191613\n",
      "1     02               0.094277\n",
      "2     03               0.113578\n",
      "3     04               0.085364\n",
      "4     05               0.068035\n",
      "5     06               0.050182\n",
      "6     07               0.016129\n",
      "7     08               0.034370\n",
      "8     09               0.056930\n",
      "9     10               0.115543\n",
      "10    11               0.216242\n",
      "11    12               0.180059\n"
     ]
    }
   ],
   "source": [
    "query = \"\"\"\n",
    "SELECT\n",
    "    STRFTIME('%m', DATE) AS month,\n",
    "    AVG(PRCP) as avg_daily_inches_rain\n",
    "FROM weather\n",
    "WHERE STRFTIME('%Y', DATE) >= \"2000\" AND STRFTIME('%Y', DATE) <= \"2010\"\n",
    "GROUP BY month\n",
    "ORDER BY month ASC\n",
    "\"\"\"\n",
    "\n",
    "result =  pd.read_sql_query(query, conn_1)\n",
    "print(result)"
   ]
  },
  {
   "cell_type": "markdown",
   "id": "9863ec8f-b513-497f-a1ee-0e1bd98493c3",
   "metadata": {},
   "source": [
    "-------"
   ]
  },
  {
   "cell_type": "markdown",
   "id": "f3edc089-c515-42e9-bda8-c4746d96e780",
   "metadata": {},
   "source": [
    "## 2. Employee"
   ]
  },
  {
   "cell_type": "code",
   "execution_count": 31,
   "id": "b6b718d9-1c46-449c-86ec-9107ced294ad",
   "metadata": {},
   "outputs": [
    {
     "data": {
      "text/plain": [
       "16"
      ]
     },
     "execution_count": 31,
     "metadata": {},
     "output_type": "execute_result"
    }
   ],
   "source": [
    "department = pd.read_csv(\"02_employee/department.csv\")\n",
    "employee = pd.read_csv(\"02_employee/employee_data.csv\")\n",
    "\n",
    "conn_2 = sqlite3.connect(\":memory:\")\n",
    "\n",
    "department.to_sql('department', conn_2, index=False)\n",
    "employee.to_sql('employee', conn_2, index=False)"
   ]
  },
  {
   "cell_type": "markdown",
   "id": "c3cf3785-7445-4094-9177-3dde132a093c",
   "metadata": {},
   "source": [
    "**1. List all the employees in order of descreasing salary**"
   ]
  },
  {
   "cell_type": "code",
   "execution_count": 33,
   "id": "aede274e-2270-41c7-81ea-c31025cc5915",
   "metadata": {},
   "outputs": [
    {
     "name": "stdout",
     "output_type": "stream",
     "text": [
      "    emp_id          emp_name  mananger_id  dept_id  salary\n",
      "0        4     Anthony Stark          NaN        1  100000\n",
      "1        8             Shuri          NaN        5   80000\n",
      "2       15      Joe McMillan         13.0        2   80000\n",
      "3       13      Donna Clarke          NaN        1   75000\n",
      "4       14      Cameron Howe         13.0        3   75000\n",
      "5        9   Diane Rawlinson          NaN        1   50000\n",
      "6       11    Nancy Karrigan          9.0        4   42000\n",
      "7       12  Kristi Yamaguchi          9.0        4   40000\n",
      "8       16      Saul Goodman         13.0        6   40000\n",
      "9       10     Tonya Harding          9.0        4   30000\n",
      "10       6      Bruce Banner          4.0        5    8000\n",
      "11       7       Jane Foster          4.0        5    7500\n",
      "12       1     Micheal Scott          NaN        1    6000\n",
      "13       2    Dwight Schrute          1.0        2    4000\n",
      "14       5          Bill Nye          4.0        5    3800\n",
      "15       3       Jim Halpert          1.0        2    3500\n"
     ]
    }
   ],
   "source": [
    "query = \"\"\"\n",
    "SELECT *\n",
    "FROM employee\n",
    "ORDER BY salary DESC\n",
    "\"\"\"\n",
    "\n",
    "result =  pd.read_sql_query(query, conn_2)\n",
    "print(result)"
   ]
  },
  {
   "cell_type": "markdown",
   "id": "066d0847-66ba-4d0c-af5d-8330e6e23683",
   "metadata": {},
   "source": [
    "**2. List all the department names, and the number of employees in that department. Order by number of employess in department (greatest to least)**"
   ]
  },
  {
   "cell_type": "code",
   "execution_count": 35,
   "id": "ff2437c3-7ba3-470c-9227-a67e8ca67669",
   "metadata": {},
   "outputs": [
    {
     "name": "stdout",
     "output_type": "stream",
     "text": [
      "   deptname  deptid  COUNT(d.deptname)\n",
      "0  Research       5                  4\n",
      "1     Admin       1                  4\n",
      "2  Training       4                  3\n",
      "3     Sales       2                  3\n",
      "4     Legal       6                  1\n",
      "5        IT       3                  1\n"
     ]
    }
   ],
   "source": [
    "query = \"\"\"\n",
    "SELECT \n",
    "    d.deptname,\n",
    "    d.deptid,\n",
    "    COUNT(d.deptname)\n",
    "FROM department AS d\n",
    "INNER JOIN employee AS e ON d.deptid = e.dept_id\n",
    "GROUP BY d.deptname\n",
    "ORDER BY COUNT(d.deptname) DESC\n",
    "\n",
    "\"\"\"\n",
    "\n",
    "result =  pd.read_sql_query(query, conn_2)\n",
    "print(result)"
   ]
  },
  {
   "cell_type": "markdown",
   "id": "7c8b9f84-9769-4460-b91d-bb773f6108eb",
   "metadata": {},
   "source": [
    "**3. List all the employees that don't have a manager**"
   ]
  },
  {
   "cell_type": "code",
   "execution_count": 37,
   "id": "561b186a-fc39-44d3-8fc6-8a339d217824",
   "metadata": {},
   "outputs": [
    {
     "name": "stdout",
     "output_type": "stream",
     "text": [
      "   emp_id         emp_name mananger_id  dept_id  salary\n",
      "0       1    Micheal Scott        None        1    6000\n",
      "1       4    Anthony Stark        None        1  100000\n",
      "2       8            Shuri        None        5   80000\n",
      "3       9  Diane Rawlinson        None        1   50000\n",
      "4      13     Donna Clarke        None        1   75000\n"
     ]
    }
   ],
   "source": [
    "query = \"\"\"\n",
    "SELECT *\n",
    "FROM employee\n",
    "WHERE mananger_id IS NULL\n",
    "\"\"\"\n",
    "\n",
    "result =  pd.read_sql_query(query, conn_2)\n",
    "print(result)"
   ]
  },
  {
   "cell_type": "markdown",
   "id": "b13818ad-cbbb-42a8-bbfb-16f941fc6616",
   "metadata": {},
   "source": [
    "**4. List all employees by name, and the name of their manager. If the employee doesn't have a manager, leave the column as NULL.**"
   ]
  },
  {
   "cell_type": "code",
   "execution_count": 39,
   "id": "031f8460-bde7-433c-9631-6a6a8177f0fb",
   "metadata": {},
   "outputs": [
    {
     "name": "stdout",
     "output_type": "stream",
     "text": [
      "       employee_name     manager_name\n",
      "0     Dwight Schrute    Micheal Scott\n",
      "1        Jim Halpert    Micheal Scott\n",
      "2       Cameron Howe     Donna Clarke\n",
      "3       Joe McMillan     Donna Clarke\n",
      "4       Saul Goodman     Donna Clarke\n",
      "5      Tonya Harding  Diane Rawlinson\n",
      "6     Nancy Karrigan  Diane Rawlinson\n",
      "7   Kristi Yamaguchi  Diane Rawlinson\n",
      "8           Bill Nye    Anthony Stark\n",
      "9       Bruce Banner    Anthony Stark\n",
      "10       Jane Foster    Anthony Stark\n",
      "11     Micheal Scott             None\n",
      "12     Anthony Stark             None\n",
      "13             Shuri             None\n",
      "14   Diane Rawlinson             None\n",
      "15      Donna Clarke             None\n"
     ]
    }
   ],
   "source": [
    "query = \"\"\"\n",
    "SELECT \n",
    "    e1.emp_name AS employee_name,\n",
    "    e2.emp_name AS manager_name\n",
    "FROM employee AS e1\n",
    "LEFT JOIN employee AS e2 ON e1.mananger_id = e2.emp_id\n",
    "ORDER by manager_name DESC\n",
    "\"\"\"\n",
    "\n",
    "result =  pd.read_sql_query(query, conn_2)\n",
    "print(result)"
   ]
  },
  {
   "cell_type": "markdown",
   "id": "44c491fd-d21b-40be-b431-9feb517661cc",
   "metadata": {},
   "source": [
    "**5. For each manager, list the number of employees he or she is managing. For these purposes, a manager is anyone who is not managed by someone else, even if that person has no direct reports.**"
   ]
  },
  {
   "cell_type": "code",
   "execution_count": 41,
   "id": "056e389b-f980-4c97-b7c8-2c73205f9c50",
   "metadata": {},
   "outputs": [
    {
     "name": "stdout",
     "output_type": "stream",
     "text": [
      "      manager_name  num_managed\n",
      "0    Anthony Stark            3\n",
      "1  Diane Rawlinson            3\n",
      "2     Donna Clarke            3\n",
      "3    Micheal Scott            2\n"
     ]
    }
   ],
   "source": [
    "query = \"\"\"\n",
    "SELECT\n",
    "    e1.emp_name AS manager_name,\n",
    "    COUNT(e2.emp_id) AS num_managed\n",
    "FROM employee AS e1\n",
    "LEFT JOIN employee as e2 ON e1.emp_id = e2.mananger_id\n",
    "WHERE e2.mananger_id IS NOT NULL\n",
    "GROUP BY e1.emp_id, e1.emp_name\n",
    "ORDER BY num_managed DESC\n",
    "\n",
    "\"\"\"\n",
    "\n",
    "result =  pd.read_sql_query(query, conn_2)\n",
    "print(result)"
   ]
  },
  {
   "cell_type": "markdown",
   "id": "0e77edd1-833b-4d4e-b010-2a690c140510",
   "metadata": {},
   "source": [
    "**6. Find the two highest paid people per department**"
   ]
  },
  {
   "cell_type": "code",
   "execution_count": 43,
   "id": "92bdb68a-d592-4797-9678-8248e9d5342b",
   "metadata": {},
   "outputs": [
    {
     "name": "stdout",
     "output_type": "stream",
     "text": [
      "   dept_id          emp_name  salary  salary_rank\n",
      "0        1     Anthony Stark  100000            1\n",
      "1        1      Donna Clarke   75000            2\n",
      "2        2      Joe McMillan   80000            1\n",
      "3        2    Dwight Schrute    4000            2\n",
      "4        3      Cameron Howe   75000            1\n",
      "5        4    Nancy Karrigan   42000            1\n",
      "6        4  Kristi Yamaguchi   40000            2\n",
      "7        5             Shuri   80000            1\n",
      "8        5      Bruce Banner    8000            2\n",
      "9        6      Saul Goodman   40000            1\n"
     ]
    }
   ],
   "source": [
    "query = \"\"\"\n",
    "\n",
    "SELECT \n",
    "    dept_id,\n",
    "    emp_name,\n",
    "    salary,\n",
    "    salary_rank\n",
    "FROM (\n",
    "    SELECT \n",
    "        emp_name,\n",
    "        dept_id,\n",
    "        salary,\n",
    "        RANK() OVER (PARTITION BY dept_id ORDER BY salary DESC) AS salary_rank\n",
    "    FROM employee\n",
    ") ranked\n",
    "WHERE \n",
    "    salary_rank <= 2\n",
    "\"\"\"\n",
    "\n",
    "result =  pd.read_sql_query(query, conn_2)\n",
    "print(result)\n"
   ]
  },
  {
   "cell_type": "markdown",
   "id": "771cf7cc-5444-4eba-a26f-e6d3895402a8",
   "metadata": {},
   "source": [
    "------"
   ]
  },
  {
   "cell_type": "markdown",
   "id": "3126c117-ecca-4fc7-9118-b3d5f861d075",
   "metadata": {},
   "source": [
    "## 3. Social Network"
   ]
  },
  {
   "cell_type": "code",
   "execution_count": 46,
   "id": "19a754c7-4b37-4243-bc6d-19b6f39fb432",
   "metadata": {},
   "outputs": [
    {
     "data": {
      "text/plain": [
       "9"
      ]
     },
     "execution_count": 46,
     "metadata": {},
     "output_type": "execute_result"
    }
   ],
   "source": [
    "follows = pd.read_csv(\"03_social_network/follows.csv\")\n",
    "users = pd.read_csv(\"03_social_network/users.csv\")\n",
    "\n",
    "conn_3 = sqlite3.connect(\":memory:\")\n",
    "\n",
    "follows.to_sql('follows', conn_3, index=False)\n",
    "users.to_sql('users', conn_3, index=False)"
   ]
  },
  {
   "cell_type": "markdown",
   "id": "22d09031-6ca4-4e9c-8871-0a320fa21b8a",
   "metadata": {},
   "source": [
    "**1. How many users are there in each house?**"
   ]
  },
  {
   "cell_type": "code",
   "execution_count": 48,
   "id": "ca5ea0a9-bea1-4d1b-8c12-e13784d96b2e",
   "metadata": {},
   "outputs": [
    {
     "name": "stdout",
     "output_type": "stream",
     "text": [
      "        house  Count\n",
      "0  Gryffindor      4\n",
      "1  Hufflepuff      1\n",
      "2   Ravenclaw      2\n",
      "3   Slytherin      2\n"
     ]
    }
   ],
   "source": [
    "query = \"\"\"\n",
    "SELECT\n",
    "    house,\n",
    "    count(house) AS Count\n",
    "FROM users\n",
    "GROUP BY house\n",
    "\"\"\"\n",
    "\n",
    "result =  pd.read_sql_query(query, conn_3)\n",
    "print(result)\n"
   ]
  },
  {
   "cell_type": "markdown",
   "id": "43fbc459-6815-4dac-aef5-d05efac957cd",
   "metadata": {},
   "source": [
    "**2. List all following links that were created before September 1st, 1993**"
   ]
  },
  {
   "cell_type": "code",
   "execution_count": 50,
   "id": "073c73f0-b4f5-47a4-8158-9c2573a256ea",
   "metadata": {},
   "outputs": [
    {
     "name": "stdout",
     "output_type": "stream",
     "text": [
      "   user_id  follows        date\n",
      "0        2        1  1989-01-01\n",
      "1        3        1  1993-07-01\n",
      "2        4        2  1988-08-08\n",
      "3        4        1  1988-08-08\n",
      "4        5        6  1986-01-10\n",
      "5        7        1  1990-02-02\n"
     ]
    }
   ],
   "source": [
    "query = \"\"\"\n",
    "SELECT *\n",
    "FROM follows\n",
    "WHERE date < \"1993-09-01\"\n",
    "\"\"\"\n",
    "\n",
    "result =  pd.read_sql_query(query, conn_3)\n",
    "print(result)"
   ]
  },
  {
   "cell_type": "markdown",
   "id": "e3c32bc9-6cf2-4aa6-b132-93558589a4b5",
   "metadata": {},
   "source": [
    "**3. List all rows from the follows table, replacing both user_ids with first name. Hint: it may help to make this a VIEW**"
   ]
  },
  {
   "cell_type": "code",
   "execution_count": 52,
   "id": "a4ca9bea-d36c-4818-817c-de54742ea1d9",
   "metadata": {},
   "outputs": [],
   "source": [
    "conn_3.execute(\"\"\"\n",
    "CREATE VIEW follow_names AS\n",
    "SELECT \n",
    "    u1.first_name AS follower,\n",
    "    u2.first_name AS followed,\n",
    "    f.date\n",
    "FROM \n",
    "    follows f\n",
    "JOIN \n",
    "    users u1 ON f.user_id = u1.user_id\n",
    "JOIN \n",
    "    users u2 ON f.follows = u2.user_id;\n",
    "\"\"\")\n",
    "\n",
    "query = \"SELECT * FROM follow_names;\"\n",
    "result = pd.read_sql_query(query, conn_3)\n",
    "\n"
   ]
  },
  {
   "cell_type": "code",
   "execution_count": 53,
   "id": "8685c774-694a-4b44-a061-635519df4e2f",
   "metadata": {},
   "outputs": [
    {
     "name": "stdout",
     "output_type": "stream",
     "text": [
      "    follower  followed        date\n",
      "0      Harry       Ron  1993-09-01\n",
      "1        Ron     Harry  1989-01-01\n",
      "2   Hermonie     Harry  1993-07-01\n",
      "3        Ron  Hermonie  1994-10-10\n",
      "4   Hermonie       Ron  1995-03-01\n",
      "5      Ginny       Ron  1988-08-08\n",
      "6      Ginny     Harry  1988-08-08\n",
      "7      Harry     Ginny  1994-04-02\n",
      "8      Harry     Draco  2000-01-01\n",
      "9      Draco     Harry  2000-01-02\n",
      "10     Draco       Tom  1986-01-10\n",
      "11      Luna     Harry  1990-02-02\n",
      "12     Harry      Luna  1996-10-01\n",
      "13     Harry       Cho  1993-09-03\n",
      "14       Cho     Harry  1995-09-01\n",
      "15       Cho    Cedric  1995-09-01\n",
      "16    Cedric       Cho  1996-01-10\n",
      "17      Luna       Cho  1993-09-01\n",
      "18  Hermonie    Cedric  1996-05-30\n",
      "19     Ginny    Cedric  1996-05-30\n"
     ]
    }
   ],
   "source": [
    "query = \"\"\"\n",
    "SELECT * FROM follow_names;\n",
    "\"\"\"\n",
    "\n",
    "result =  pd.read_sql_query(query, conn_3)\n",
    "print(result)"
   ]
  },
  {
   "cell_type": "markdown",
   "id": "aacf73f2-a322-4ebc-bf3e-5c423153f2c4",
   "metadata": {},
   "source": [
    "**4. List all the following links established before September 1st 1993, but this time use the users first names.**"
   ]
  },
  {
   "cell_type": "code",
   "execution_count": 55,
   "id": "6fb77e3b-259d-445d-ba68-55901ed28625",
   "metadata": {},
   "outputs": [
    {
     "name": "stdout",
     "output_type": "stream",
     "text": [
      "   follower followed        date\n",
      "0       Ron    Harry  1989-01-01\n",
      "1  Hermonie    Harry  1993-07-01\n",
      "2     Ginny      Ron  1988-08-08\n",
      "3     Ginny    Harry  1988-08-08\n",
      "4     Draco      Tom  1986-01-10\n",
      "5      Luna    Harry  1990-02-02\n"
     ]
    }
   ],
   "source": [
    "query = \"\"\"\n",
    "SELECT * \n",
    "FROM follow_names\n",
    "WHERE date < \"1993-09-01\"\n",
    "\"\"\"\n",
    "\n",
    "result =  pd.read_sql_query(query, conn_3)\n",
    "print(result)"
   ]
  },
  {
   "cell_type": "markdown",
   "id": "9d588f0a-069c-4ff3-94ee-8866b943db45",
   "metadata": {},
   "source": [
    "**5. Give a count of how many people followed each user as of 1999-12-31. Give the result in term of \"users full name, number of followers\".**"
   ]
  },
  {
   "cell_type": "code",
   "execution_count": 57,
   "id": "aa325d42-7df1-46af-81a8-5d6eaea1f2fa",
   "metadata": {},
   "outputs": [
    {
     "name": "stdout",
     "output_type": "stream",
     "text": [
      "  user_followed_name  num_followers\n",
      "0       Harry Potter              5\n",
      "1         Ron Wesley              3\n",
      "2   Hermonie Granger              1\n",
      "3      Ginny Weasley              1\n",
      "4         Tom Riddle              1\n",
      "5      Luna Lovegood              1\n",
      "6          Cho Chang              3\n",
      "7     Cedric Diggory              3\n"
     ]
    }
   ],
   "source": [
    "query = \"\"\"\n",
    "SELECT \n",
    "    u.first_name || ' ' || u.last_name AS user_followed_name,\n",
    "    COUNT(f.follows) AS num_followers\n",
    "FROM users AS u\n",
    "JOIN follows AS f ON u.user_id = f.follows\n",
    "WHERE date <= \"1999-12-31\"\n",
    "GROUP BY user_followed_name\n",
    "ORDER BY u.user_id\n",
    "\n",
    "\"\"\"\n",
    "\n",
    "result =  pd.read_sql_query(query, conn_3)\n",
    "print(result)"
   ]
  },
  {
   "cell_type": "markdown",
   "id": "23b83f62-633f-490e-80d1-0ef8af522949",
   "metadata": {},
   "source": [
    "**6. List the number of users each user follows**"
   ]
  },
  {
   "cell_type": "code",
   "execution_count": 59,
   "id": "18ea0ec4-72c0-4a9d-8232-ef8e57bfc3c7",
   "metadata": {},
   "outputs": [
    {
     "name": "stdout",
     "output_type": "stream",
     "text": [
      "  user_followed_name  num_followed\n",
      "0       Harry Potter             5\n",
      "1         Ron Wesley             2\n",
      "2   Hermonie Granger             3\n",
      "3      Ginny Weasley             3\n",
      "4       Draco Malfoy             2\n",
      "5      Luna Lovegood             2\n",
      "6          Cho Chang             2\n",
      "7     Cedric Diggory             1\n"
     ]
    }
   ],
   "source": [
    "query = \"\"\"\n",
    "SELECT \n",
    "    u.first_name || ' ' || u.last_name AS user_followed_name,\n",
    "    COUNT(f.user_id) AS num_followed\n",
    "FROM users AS u\n",
    "JOIN follows AS f ON u.user_id = f.user_id\n",
    "GROUP BY user_followed_name\n",
    "ORDER BY u.user_id\n",
    "\n",
    "\"\"\"\n",
    "\n",
    "result =  pd.read_sql_query(query, conn_3)\n",
    "print(result)"
   ]
  },
  {
   "cell_type": "markdown",
   "id": "01cd3407-6a41-4559-b102-afa69682407e",
   "metadata": {},
   "source": [
    "**7. List all rows from follows where someone from one house follows someone from a different house.**"
   ]
  },
  {
   "cell_type": "code",
   "execution_count": 61,
   "id": "b7253e07-9a99-4d69-b946-b5e04236028b",
   "metadata": {},
   "outputs": [
    {
     "name": "stdout",
     "output_type": "stream",
     "text": [
      "           username  user_house     follow_name follows_house\n",
      "0      Harry Potter  Gryffindor    Draco Malfoy     Slytherin\n",
      "1      Harry Potter  Gryffindor   Luna Lovegood     Ravenclaw\n",
      "2      Harry Potter  Gryffindor       Cho Chang     Ravenclaw\n",
      "3  Hermonie Granger  Gryffindor  Cedric Diggory    Hufflepuff\n",
      "4     Ginny Weasley  Gryffindor  Cedric Diggory    Hufflepuff\n",
      "5      Draco Malfoy   Slytherin    Harry Potter    Gryffindor\n",
      "6     Luna Lovegood   Ravenclaw    Harry Potter    Gryffindor\n",
      "7         Cho Chang   Ravenclaw    Harry Potter    Gryffindor\n",
      "8         Cho Chang   Ravenclaw  Cedric Diggory    Hufflepuff\n",
      "9    Cedric Diggory  Hufflepuff       Cho Chang     Ravenclaw\n"
     ]
    }
   ],
   "source": [
    "query = \"\"\"\n",
    "SELECT \n",
    "    u.first_name || ' ' || u.last_name AS username,\n",
    "    u.house AS user_house,\n",
    "    u2.first_name || ' ' || u2.last_name AS follow_name,\n",
    "    u2.house AS follows_house\n",
    "FROM users AS u\n",
    "JOIN follows AS f ON u.user_id = f.user_id\n",
    "JOIN users AS u2 ON f.follows = u2.user_id\n",
    "WHERE u.house != u2.house\n",
    "\"\"\"\n",
    "\n",
    "result =  pd.read_sql_query(query, conn_3)\n",
    "print(result)"
   ]
  },
  {
   "cell_type": "markdown",
   "id": "630963fa-a9ce-4c7d-ad5b-56cbabafe9fa",
   "metadata": {},
   "source": [
    "**8. We define a friendship as a relationship between two users where both follow each other. The friendship is established when the later of the two links is established.**"
   ]
  },
  {
   "cell_type": "code",
   "execution_count": 63,
   "id": "f80564e0-78b3-48e4-b078-321715df034c",
   "metadata": {},
   "outputs": [
    {
     "name": "stdout",
     "output_type": "stream",
     "text": [
      "   user1_id  user2_id friendship_date\n",
      "0         1         2      1993-09-01\n",
      "1         2         3      1995-03-01\n",
      "2         1         4      1994-04-02\n",
      "3         1         5      2000-01-02\n",
      "4         1         7      1996-10-01\n",
      "5         1         8      1995-09-01\n",
      "6         8         9      1996-01-10\n"
     ]
    }
   ],
   "source": [
    "query = \"\"\"\n",
    "SELECT \n",
    "    f1.user_id AS user1_id,\n",
    "    f2.user_id AS user2_id,\n",
    "    MAX(f1.date, f2.date) AS friendship_date\n",
    "FROM \n",
    "    follows f1\n",
    "JOIN \n",
    "    follows f2\n",
    "    ON f1.user_id = f2.follows AND f1.follows = f2.user_id\n",
    "WHERE \n",
    "    f1.user_id < f2.user_id\n",
    "\n",
    "\"\"\"\n",
    "\n",
    "result =  pd.read_sql_query(query, conn_3)\n",
    "print(result)"
   ]
  },
  {
   "cell_type": "code",
   "execution_count": 64,
   "id": "3cb2f68a-2c9f-479b-b027-075eb621b6c2",
   "metadata": {},
   "outputs": [
    {
     "name": "stdout",
     "output_type": "stream",
     "text": [
      "       user1_id          user1_id friendship_date\n",
      "0  Harry Potter        Ron Wesley      1993-09-01\n",
      "1    Ron Wesley  Hermonie Granger      1995-03-01\n",
      "2  Harry Potter     Ginny Weasley      1994-04-02\n",
      "3  Harry Potter      Draco Malfoy      2000-01-02\n",
      "4  Harry Potter     Luna Lovegood      1996-10-01\n",
      "5  Harry Potter         Cho Chang      1995-09-01\n",
      "6     Cho Chang    Cedric Diggory      1996-01-10\n"
     ]
    }
   ],
   "source": [
    "query = \"\"\"\n",
    "SELECT \n",
    "    u1.first_name || ' ' || u1.last_name AS user1_id,\n",
    "    u2.first_name || ' ' || u2.last_name AS user1_id,\n",
    "    MAX(f1.date, f2.date) AS friendship_date\n",
    "FROM \n",
    "    follows f1\n",
    "JOIN \n",
    "    follows f2\n",
    "    ON f1.user_id = f2.follows AND f1.follows = f2.user_id\n",
    "JOIN\n",
    "    users u1\n",
    "    ON f1.user_id = u1.user_id\n",
    "JOIN\n",
    "    users u2\n",
    "    ON f2.user_id = u2.user_id\n",
    "WHERE \n",
    "    f1.user_id < f2.user_id\n",
    "\n",
    "\"\"\"\n",
    "\n",
    "result =  pd.read_sql_query(query, conn_3)\n",
    "print(result)"
   ]
  },
  {
   "cell_type": "markdown",
   "id": "cacf0175-7c2d-4905-bf20-cb0716051ccb",
   "metadata": {},
   "source": [
    "**9. List all unrequited followings (i.e. where A follows B but B does not follow A)**"
   ]
  },
  {
   "cell_type": "code",
   "execution_count": 66,
   "id": "0934719f-19c9-427c-9b96-b37fda9d4783",
   "metadata": {},
   "outputs": [
    {
     "name": "stdout",
     "output_type": "stream",
     "text": [
      "   follower     follower_name  followed   followed_name\n",
      "0         3  Hermonie Granger         1    Harry Potter\n",
      "1         4     Ginny Weasley         2      Ron Wesley\n",
      "2         5      Draco Malfoy         6      Tom Riddle\n",
      "3         7     Luna Lovegood         8       Cho Chang\n",
      "4         3  Hermonie Granger         9  Cedric Diggory\n",
      "5         4     Ginny Weasley         9  Cedric Diggory\n"
     ]
    }
   ],
   "source": [
    "query = \"\"\"\n",
    "SELECT \n",
    "    f1.user_id AS follower,\n",
    "    u1.first_name || ' ' || u1.last_name AS follower_name,\n",
    "    f1.follows AS followed,\n",
    "    u2.first_name || ' ' || u2.last_name AS followed_name\n",
    "FROM \n",
    "    follows f1\n",
    "JOIN\n",
    "    users u1\n",
    "    ON f1.user_id = u1.user_id\n",
    "JOIN\n",
    "    users u2\n",
    "    ON f1.follows = u2.user_id\n",
    "LEFT JOIN \n",
    "    follows f2\n",
    "    ON f1.user_id = f2.follows AND f1.follows = f2.user_id\n",
    "WHERE \n",
    "    f2.user_id IS NULL\n",
    "\n",
    "\"\"\"\n",
    "\n",
    "result =  pd.read_sql_query(query, conn_3)\n",
    "print(result)"
   ]
  },
  {
   "cell_type": "markdown",
   "id": "976db036-077c-49c4-b55f-9674ef714625",
   "metadata": {},
   "source": [
    "------"
   ]
  },
  {
   "cell_type": "markdown",
   "id": "0c96303d-fc39-4b75-bc97-fd24d10f83af",
   "metadata": {},
   "source": [
    "## 4. Orders"
   ]
  },
  {
   "cell_type": "code",
   "execution_count": 69,
   "id": "d2fdba40-2d6d-4695-bb2a-c9adad51cdd0",
   "metadata": {},
   "outputs": [
    {
     "data": {
      "text/plain": [
       "150"
      ]
     },
     "execution_count": 69,
     "metadata": {},
     "output_type": "execute_result"
    }
   ],
   "source": [
    "customers = pd.read_csv(\"04_orders/customers.csv\")\n",
    "order_details = pd.read_csv(\"04_orders/order_details.csv\")\n",
    "orders = pd.read_csv(\"04_orders/orders.csv\")\n",
    "products = pd.read_csv(\"04_orders/products.csv\")\n",
    "\n",
    "conn_4 = sqlite3.connect(\":memory:\")\n",
    "\n",
    "customers.to_sql('customers', conn_4, index=False)\n",
    "order_details.to_sql('order_details', conn_4, index=False)\n",
    "orders.to_sql('orders', conn_4, index=False)\n",
    "products.to_sql('products', conn_4, index=False)"
   ]
  },
  {
   "cell_type": "markdown",
   "id": "8b169bd4-1b94-42b7-98d5-bd504a4cc008",
   "metadata": {},
   "source": [
    "**1. List the 10 most expensive products for sale, and their prices**"
   ]
  },
  {
   "cell_type": "code",
   "execution_count": 71,
   "id": "a80c60a2-2ff9-4e19-bb2e-68df45681c4b",
   "metadata": {},
   "outputs": [
    {
     "name": "stdout",
     "output_type": "stream",
     "text": [
      "   product_id                 product_name  price\n",
      "0        8028  Incredible Granite Keyboard  115.0\n",
      "1        8112    Ergonomic Concrete Cheese  114.0\n",
      "2        8002       Ergonomic Granite Soap  113.0\n",
      "3        8009            Generic Metal Hat  113.0\n",
      "4        8035        Generic Concrete Soap  113.0\n",
      "5        8091           Sleek Frozen Shirt  113.0\n",
      "6        8134       Fantastic Steel Towels  113.0\n",
      "7        8130             Small Metal Bike  112.0\n",
      "8        8057          Awesome Metal Salad  111.0\n",
      "9        8051     Handcrafted Frozen Pants  110.0\n"
     ]
    }
   ],
   "source": [
    "query = \"\"\"\n",
    "SELECT \n",
    "    *\n",
    "FROM products\n",
    "ORDER BY price DESC\n",
    "LIMIT 10\n",
    "\"\"\"\n",
    "\n",
    "result =  pd.read_sql_query(query, conn_4)\n",
    "print(result)"
   ]
  },
  {
   "cell_type": "markdown",
   "id": "f8ee6577-1f99-46aa-b939-31c14dbaf86d",
   "metadata": {},
   "source": [
    "**2. Which states have more than 5 customers? Use the state column on the customer table. Count each customer on the table, regardless of whether they have ever bought anything.**"
   ]
  },
  {
   "cell_type": "code",
   "execution_count": 73,
   "id": "c9f5bf9d-f2ed-408b-9eaf-561e5586a3d0",
   "metadata": {},
   "outputs": [
    {
     "name": "stdout",
     "output_type": "stream",
     "text": [
      "  state  customers_state\n",
      "0    AL                9\n",
      "1    WY                8\n",
      "2    WV                7\n",
      "3    IL                7\n",
      "4    MS                6\n",
      "5    ME                6\n",
      "6    FL                6\n"
     ]
    }
   ],
   "source": [
    "query = \"\"\"\n",
    "SELECT \n",
    "    state,\n",
    "    COUNT(*) AS customers_state\n",
    "FROM customers\n",
    "GROUP BY state\n",
    "HAVING customers_state > 5\n",
    "ORDER BY customers_state DESC\n",
    "\"\"\"\n",
    "\n",
    "result =  pd.read_sql_query(query, conn_4)\n",
    "print(result)"
   ]
  },
  {
   "cell_type": "markdown",
   "id": "1fb8165a-5207-412a-b01f-b7d1702ceb09",
   "metadata": {},
   "source": [
    "**3. Get the 17 customers that have made the largest number of orders. Include the name, address, state, and number of orders made**"
   ]
  },
  {
   "cell_type": "code",
   "execution_count": 75,
   "id": "a9d550da-668a-4141-8176-0afb59f4b400",
   "metadata": {},
   "outputs": [
    {
     "name": "stdout",
     "output_type": "stream",
     "text": [
      "                 Name                         address state  num_orders\n",
      "0        Joseph Ponce          93874 Esparza Mountain    KS          19\n",
      "1      Andrew Fischer               7764 Brown Divide    ME          18\n",
      "2      Sabrina Foster     5075 Mullins Drive Apt. 298    MD          17\n",
      "3     George Davis MD                  439 Chan Route    IL          16\n",
      "4      Benjamin Brown                 598 Moore Ports    TN          16\n",
      "5     Michelle Austin                 856 Mills Lakes    MI          15\n",
      "6     Kimberly Palmer    09293 Burnett Path Suite 681    NV          15\n",
      "7         Beth Rivera   7813 Ingram Junction Apt. 318    AK          15\n",
      "8   Johnathan Charles           22678 Hartman Mission    HI          15\n",
      "9         Emily Fritz                918 Renee Lights    AL          15\n",
      "10      Eric Erickson                 7751 Clark Lane    VA          15\n",
      "11        Edgar Perry                333 Jenna Bridge    AL          15\n",
      "12       Emily Nelson      56388 Rivera Neck Apt. 883    OK          15\n",
      "13        Sarah Ortiz  8972 Rodriguez Vista Suite 102    AL          15\n",
      "14      Jessica Burke               68160 Amanda Pike    NM          15\n",
      "15     Crystal Hayden                 486 Traci Roads    WI          15\n",
      "16    Michelle Wright       565 Manuel Road Suite 343    IN          15\n"
     ]
    }
   ],
   "source": [
    "query = \"\"\"\n",
    "SELECT \n",
    "    c.name AS Name,\n",
    "    c.address AS address,\n",
    "    c.state AS state,\n",
    "    COUNT(o.order_id) AS num_orders\n",
    "FROM customers AS c\n",
    "JOIN orders AS o ON o.customer_id = c.user_id\n",
    "GROUP BY c.user_id\n",
    "ORDER BY num_orders DESC\n",
    "LIMIT 17 \n",
    "\"\"\"\n",
    "\n",
    "result =  pd.read_sql_query(query, conn_4)\n",
    "print(result)"
   ]
  },
  {
   "cell_type": "markdown",
   "id": "f0c3b7c4-e779-4348-a625-5bf47d7bcde4",
   "metadata": {},
   "source": [
    "**4. Get all orders by customer 1026. Include the amount spent in each order, the order id, and the total number of distinct products purchased.**"
   ]
  },
  {
   "cell_type": "code",
   "execution_count": 77,
   "id": "d13d3181-0fa4-428f-97a6-b00520d336b0",
   "metadata": {},
   "outputs": [
    {
     "name": "stdout",
     "output_type": "stream",
     "text": [
      "   Order_ID   Price  num_distinct_product\n",
      "0        59  1086.0                     5\n",
      "1       274   912.0                     4\n",
      "2       387   190.0                     1\n",
      "3       622  1148.0                     2\n",
      "4       844   870.0                     1\n",
      "5      1795   317.0                     2\n",
      "6      1992   285.0                     1\n"
     ]
    }
   ],
   "source": [
    "query = \"\"\"\n",
    "SELECT \n",
    "    o.order_id AS Order_ID,\n",
    "    SUM(p.price * od.quantity)  AS Price,\n",
    "    COUNT(DISTINCT(od.product_id)) AS num_distinct_product\n",
    "FROM orders AS o\n",
    "JOIN order_details AS od ON od.order_id = o.order_id\n",
    "JOIN products AS p ON od.product_id = p.product_id\n",
    "WHERE o.customer_id = 1026\n",
    "GROUP BY o.order_id \n",
    "\"\"\"\n",
    "\n",
    "result =  pd.read_sql_query(query, conn_4)\n",
    "print(result)"
   ]
  },
  {
   "cell_type": "markdown",
   "id": "022e0533-4783-41db-b595-fc384291b517",
   "metadata": {},
   "source": [
    "**5. Get the 10 customers that have spent the most. Give the customer_id and amount spent**"
   ]
  },
  {
   "cell_type": "code",
   "execution_count": 79,
   "id": "c280ca8d-bdb6-4ce3-b564-7b0122305e95",
   "metadata": {},
   "outputs": [
    {
     "name": "stdout",
     "output_type": "stream",
     "text": [
      "   Customer_ID  Total_Spent\n",
      "0         1087      22632.0\n",
      "1         1178      21972.0\n",
      "2         1013      20568.0\n",
      "3         1139      19881.0\n",
      "4         1153      19791.0\n",
      "5         1106      19182.0\n",
      "6         1140      18979.0\n",
      "7         1042      18091.0\n",
      "8         1190      17990.0\n",
      "9         1029      17958.0\n"
     ]
    }
   ],
   "source": [
    "query = \"\"\"\n",
    "SELECT \n",
    "    c.user_id AS Customer_ID,\n",
    "    SUM(od.quantity * p.price) AS Total_Spent\n",
    "FROM customers AS c\n",
    "JOIN orders AS o ON o.customer_id = c.user_id\n",
    "JOIN order_details AS od ON od.order_id = o.order_id\n",
    "JOIN products AS p ON p.product_id = od.product_id\n",
    "GROUP BY c.user_id\n",
    "ORDER BY Total_Spent DESC\n",
    "LIMIT 10\n",
    "\"\"\"\n",
    "\n",
    "result =  pd.read_sql_query(query, conn_4)\n",
    "print(result)"
   ]
  },
  {
   "cell_type": "markdown",
   "id": "9c3e2907-e74f-4713-8dbb-3b44d758e4ce",
   "metadata": {},
   "source": [
    "**6. Repeat the previous question, but include the customer's name, address, and state, in addition to the customer id and total amount spent**"
   ]
  },
  {
   "cell_type": "code",
   "execution_count": 81,
   "id": "535087f7-660b-4fca-b814-cb9e378eb4a0",
   "metadata": {},
   "outputs": [
    {
     "name": "stdout",
     "output_type": "stream",
     "text": [
      "   Customer_ID       Customer_Name                Customer_Addres  \\\n",
      "0         1087     Allison Hoffman                  55218 Lam Key   \n",
      "1         1178  Jacqueline Frazier  85471 Davis Viaduct Suite 294   \n",
      "2         1013   Timothy Robertson    72067 Bridget Loaf Apt. 580   \n",
      "3         1139        Joseph Ponce         93874 Esparza Mountain   \n",
      "4         1153   Johnathan Charles          22678 Hartman Mission   \n",
      "5         1106      Andrew Fischer              7764 Brown Divide   \n",
      "6         1140      Jennifer Blake    9201 Andrea Courts Apt. 332   \n",
      "7         1042       Jessica Burke              68160 Amanda Pike   \n",
      "8         1190     Michelle Austin                856 Mills Lakes   \n",
      "9         1029         Jordan Rose                0537 Joel Ferry   \n",
      "\n",
      "  Customer_State  Total_Spent  \n",
      "0             KY      22632.0  \n",
      "1             AK      21972.0  \n",
      "2             PA      20568.0  \n",
      "3             KS      19881.0  \n",
      "4             HI      19791.0  \n",
      "5             ME      19182.0  \n",
      "6             MI      18979.0  \n",
      "7             NM      18091.0  \n",
      "8             MI      17990.0  \n",
      "9             MT      17958.0  \n"
     ]
    }
   ],
   "source": [
    "query = \"\"\"\n",
    "SELECT \n",
    "    c.user_id AS Customer_ID,\n",
    "    c.name AS Customer_Name,\n",
    "    c.address AS Customer_Addres,\n",
    "    c.state AS Customer_State,\n",
    "    SUM(od.quantity * p.price) AS Total_Spent\n",
    "FROM customers AS c\n",
    "JOIN orders AS o ON o.customer_id = c.user_id\n",
    "JOIN order_details AS od ON od.order_id = o.order_id\n",
    "JOIN products AS p ON p.product_id = od.product_id\n",
    "GROUP BY c.user_id\n",
    "ORDER BY Total_Spent DESC\n",
    "LIMIT 10\n",
    "\"\"\"\n",
    "\n",
    "result =  pd.read_sql_query(query, conn_4)\n",
    "print(result)"
   ]
  },
  {
   "cell_type": "markdown",
   "id": "207f6fc5-fc43-46b9-8a4d-1f9b83afa5cf",
   "metadata": {},
   "source": [
    "**7. Find the 10 customers that spent the most in 2017. Give the name and amount spent. Take the date to be the order date (not the delivery date)**"
   ]
  },
  {
   "cell_type": "code",
   "execution_count": 83,
   "id": "e6fa486b-4091-4c20-9b04-f73fc6293cf3",
   "metadata": {},
   "outputs": [
    {
     "name": "stdout",
     "output_type": "stream",
     "text": [
      "   Customer_ID    Customer_Name  Amt_Spent\n",
      "0         1120   Sabrina Foster    14986.0\n",
      "1         1115     Emily Nelson    13480.0\n",
      "2         1014    Timothy Marks    13266.0\n",
      "3         1087  Allison Hoffman    11928.0\n",
      "4         1181     Jeanne Casey    11789.0\n",
      "5         1143       Dana Kline    11312.0\n",
      "6         1103   Kristen Davies    11125.0\n",
      "7         1106   Andrew Fischer    10659.0\n",
      "8         1135      Emily Fritz    10628.0\n",
      "9         1139     Joseph Ponce    10439.0\n"
     ]
    }
   ],
   "source": [
    "query = \"\"\"\n",
    "SELECT \n",
    "    c.user_id AS Customer_ID,\n",
    "    c.name AS Customer_Name,\n",
    "    SUM(od.quantity * p.price) AS Amt_Spent\n",
    "FROM customers AS c\n",
    "JOIN orders AS o ON o.customer_id = c.user_id\n",
    "JOIN order_details AS od ON od.order_id = o.order_id\n",
    "JOIN products AS p ON p.product_id = od.product_id\n",
    "WHERE STRFTIME('%Y', o.order_date ) = \"2017\"\n",
    "GROUP BY c.user_id\n",
    "ORDER BY Amt_Spent DESC\n",
    "LIMIT 10\n",
    "\"\"\"\n",
    "\n",
    "result =  pd.read_sql_query(query, conn_4)\n",
    "print(result)"
   ]
  },
  {
   "cell_type": "markdown",
   "id": "f4e59a25-e89e-4936-abf2-c749dcc2638b",
   "metadata": {},
   "source": [
    "**8. Which three products have we sold the most of? i.e. the greatest number of units?**"
   ]
  },
  {
   "cell_type": "code",
   "execution_count": 85,
   "id": "7f91e842-3b29-48e2-b8c3-c62606c4ba9f",
   "metadata": {},
   "outputs": [
    {
     "name": "stdout",
     "output_type": "stream",
     "text": [
      "   product_id             product_name  Num_Sold\n",
      "0        8020  Ergonomic Concrete Bike       344\n",
      "1        8070  Handmade Metal Sausages       315\n",
      "2        8009        Generic Metal Hat       311\n"
     ]
    }
   ],
   "source": [
    "query = \"\"\"\n",
    "SELECT \n",
    "    p.product_id ,\n",
    "    p.product_name,\n",
    "    SUM(od.quantity) AS Num_Sold\n",
    "FROM products AS p\n",
    "JOIN order_details AS od ON od.product_id = p.product_id\n",
    "GROUP BY p.product_id\n",
    "ORDER BY Num_Sold DESC\n",
    "LIMIT 3\n",
    "\"\"\"\n",
    "\n",
    "result =  pd.read_sql_query(query, conn_4)\n",
    "print(result)"
   ]
  },
  {
   "cell_type": "markdown",
   "id": "2bd14069-7ca4-45d2-ad60-4c504b5db4e2",
   "metadata": {},
   "source": [
    "**9. What is the average number of days between order and delivery?**"
   ]
  },
  {
   "cell_type": "code",
   "execution_count": 87,
   "id": "d70b46ea-10a0-4d5e-8a51-bb563d2babfd",
   "metadata": {},
   "outputs": [
    {
     "name": "stdout",
     "output_type": "stream",
     "text": [
      "   AVG_Days\n",
      "0    5.9085\n"
     ]
    }
   ],
   "source": [
    "query = \"\"\"\n",
    "SELECT \n",
    "    AVG(julianday(deliver_date) - julianday(order_date)) AS AVG_Days\n",
    "FROM orders\n",
    "\"\"\"\n",
    "\n",
    "result =  pd.read_sql_query(query, conn_4)\n",
    "print(result)"
   ]
  },
  {
   "cell_type": "markdown",
   "id": "22046c84-c6a0-4f54-bf3f-223d5b169a19",
   "metadata": {},
   "source": [
    "**10. What is the average number of days between order and delivery for each year? Take the year from the order date.**"
   ]
  },
  {
   "cell_type": "code",
   "execution_count": 89,
   "id": "6dbb8df3-e34f-4404-9a5e-017be10bed8c",
   "metadata": {},
   "outputs": [
    {
     "name": "stdout",
     "output_type": "stream",
     "text": [
      "   Year  AVG_Days\n",
      "0  2016  5.800000\n",
      "1  2017  5.878669\n",
      "2  2018  5.969059\n"
     ]
    }
   ],
   "source": [
    "query = \"\"\"\n",
    "SELECT\n",
    "    STRFTIME('%Y', order_date) AS Year,\n",
    "    AVG(julianday(deliver_date) - julianday(order_date)) AS AVG_Days\n",
    "FROM orders\n",
    "GROUP BY Year\n",
    "\"\"\"\n",
    "\n",
    "result =  pd.read_sql_query(query, conn_4)\n",
    "print(result)"
   ]
  },
  {
   "cell_type": "markdown",
   "id": "8ec87a86-d223-4c3b-b7e9-2eff428ea7a5",
   "metadata": {},
   "source": [
    "## 5. Election"
   ]
  },
  {
   "cell_type": "code",
   "execution_count": 91,
   "id": "d7bcef6f-c0cd-46ca-a34e-fb4b9393c19d",
   "metadata": {},
   "outputs": [
    {
     "data": {
      "text/plain": [
       "860"
      ]
     },
     "execution_count": 91,
     "metadata": {},
     "output_type": "execute_result"
    }
   ],
   "source": [
    "candidate = pd.read_csv(\"05_election/candidate.csv\")\n",
    "election = pd.read_csv(\"05_election/election.csv\")\n",
    "\n",
    "conn_5 = sqlite3.connect(\":memory:\")\n",
    "\n",
    "candidate.to_sql('candidate', conn_5, index=False)\n",
    "election.to_sql('election', conn_5, index=False)\n"
   ]
  },
  {
   "cell_type": "markdown",
   "id": "f5da3235-1af3-42c1-9994-8ec409aba4f9",
   "metadata": {},
   "source": [
    "**1. How many candidates are in the candidate table for the 2000 election?**"
   ]
  },
  {
   "cell_type": "code",
   "execution_count": 93,
   "id": "9aba28fd-11d5-4eee-8882-949f14e1cadf",
   "metadata": {},
   "outputs": [
    {
     "name": "stdout",
     "output_type": "stream",
     "text": [
      "         candidate\n",
      "0         Gore, Al\n",
      "1     Nader, Ralph\n",
      "2  Bush, George W.\n"
     ]
    }
   ],
   "source": [
    "query = \"\"\"\n",
    "SELECT\n",
    "    candidate\n",
    "FROM candidate\n",
    "WHERE year = \"2000\"\n",
    "\"\"\"\n",
    "\n",
    "result =  pd.read_sql_query(query, conn_5)\n",
    "print(result)"
   ]
  },
  {
   "cell_type": "markdown",
   "id": "c2fbfb59-ab73-4b7c-a0bb-84fdc887e4d5",
   "metadata": {},
   "source": [
    "**2. How many candidates are in the candidate table for each election from 1984 to 2016?**"
   ]
  },
  {
   "cell_type": "code",
   "execution_count": 95,
   "id": "c365f782-985f-4187-a754-6f188777a468",
   "metadata": {},
   "outputs": [
    {
     "name": "stdout",
     "output_type": "stream",
     "text": [
      "   year  COUNT(*)\n",
      "0  1984         2\n",
      "1  1988         2\n",
      "2  1992         3\n",
      "3  1996         3\n",
      "4  2000         3\n",
      "5  2004         2\n",
      "6  2008         2\n",
      "7  2012         2\n",
      "8  2016         3\n"
     ]
    }
   ],
   "source": [
    "query = \"\"\"\n",
    "SELECT\n",
    "    year,\n",
    "    COUNT(*)\n",
    "FROM candidate\n",
    "GROUP BY year\n",
    "HAVING year >= \"1984\"\n",
    "ORDER BY year ASC\n",
    "\"\"\"\n",
    "\n",
    "result =  pd.read_sql_query(query, conn_5)\n",
    "print(result)"
   ]
  },
  {
   "cell_type": "markdown",
   "id": "4227bdec-234b-440f-9d2e-3aa331b8c932",
   "metadata": {},
   "source": [
    "**3. For each election from 1984 to 2016, give the party that won the popular vote (i.e. the most votes, not the most electoral college seats)**"
   ]
  },
  {
   "cell_type": "code",
   "execution_count": 97,
   "id": "92a64cda-f6a8-4de1-ab94-f9d7ec948ae8",
   "metadata": {},
   "outputs": [
    {
     "name": "stdout",
     "output_type": "stream",
     "text": [
      "   year  total_democrat  total_republican  total_other      Winner\n",
      "0  1984        37577352          54455472            0  REPUBLICAN\n",
      "1  1988        41809476          48886597            0  REPUBLICAN\n",
      "2  1992        44909806          39104550     19743821    DEMOCRAT\n",
      "3  1996        47400125          39198755      8085402    DEMOCRAT\n",
      "4  2000        51009810          50462412      2883443    DEMOCRAT\n",
      "5  2004        59027115          62039572            0  REPUBLICAN\n",
      "6  2008        69499428          59950323            0    DEMOCRAT\n",
      "7  2012        65918507          60934407            0    DEMOCRAT\n",
      "8  2016        65853625          62985106      4489233    DEMOCRAT\n"
     ]
    }
   ],
   "source": [
    "query = \"\"\"\n",
    "SELECT\n",
    "    year,\n",
    "    total_democrat,\n",
    "    total_republican,\n",
    "    total_other,\n",
    "    CASE\n",
    "        WHEN total_democrat > total_republican AND total_democrat > total_other THEN \"DEMOCRAT\"\n",
    "        WHEN total_republican > total_democrat AND total_republican > total_other THEN \"REPUBLICAN\"\n",
    "        ELSE \"OTHER\"\n",
    "    END AS Winner\n",
    "FROM (SELECT\n",
    "        year,\n",
    "        SUM(Democrat) AS total_democrat,\n",
    "        SUM(Republican) AS total_republican,\n",
    "        SUM(Other) AS total_other\n",
    "        \n",
    "    FROM election\n",
    "    GROUP BY year\n",
    "    HAVING year >= \"1984\"\n",
    "    ORDER BY year ASC)\n",
    "\"\"\"\n",
    "\n",
    "result =  pd.read_sql_query(query, conn_5)\n",
    "print(result)"
   ]
  },
  {
   "cell_type": "markdown",
   "id": "6a5fa1e1-bec2-4809-a638-cba1cadb3d10",
   "metadata": {},
   "source": [
    "**4. Extension of previous question: for each election from 1984 to 2016, give the party that won the popular vote and the margin (i.e. the amount that the winning party got over the party that came in second place). You can assume that the third party votes (\"Other\") are irrelevant, and just compare Democrats and Republicans.**"
   ]
  },
  {
   "cell_type": "code",
   "execution_count": 162,
   "id": "76d8a9d6-e231-4553-9477-49499f905a4c",
   "metadata": {},
   "outputs": [
    {
     "name": "stdout",
     "output_type": "stream",
     "text": [
      "   year    Margin      Winner\n",
      "0  1984  16878120  REPUBLICAN\n",
      "1  1988   7077121  REPUBLICAN\n",
      "2  1992   5805256    DEMOCRAT\n",
      "3  1996   8201370    DEMOCRAT\n",
      "4  2000    547398    DEMOCRAT\n",
      "5  2004   3012457  REPUBLICAN\n",
      "6  2008   9549105    DEMOCRAT\n",
      "7  2012   4984100    DEMOCRAT\n",
      "8  2016   2868519    DEMOCRAT\n"
     ]
    }
   ],
   "source": [
    "query = \"\"\"\n",
    "SELECT\n",
    "    year,\n",
    "    ABS(total_republican - total_democrat) AS Margin,\n",
    "    CASE\n",
    "        WHEN total_democrat > total_republican THEN \"DEMOCRAT\"\n",
    "        ELSE \"REPUBLICAN\"\n",
    "    END AS Winner\n",
    "    \n",
    "FROM (SELECT\n",
    "        year,\n",
    "        SUM(Democrat) AS total_democrat,\n",
    "        SUM(Republican) AS total_republican\n",
    "    FROM election\n",
    "    GROUP BY year\n",
    "    HAVING year >= \"1984\"\n",
    "    ORDER BY year ASC)\n",
    "GROUP BY year\n",
    "\"\"\"\n",
    "\n",
    "result =  pd.read_sql_query(query, conn_5)\n",
    "print(result)"
   ]
  },
  {
   "cell_type": "markdown",
   "id": "df50b8db-c172-4728-9215-6502b58891f3",
   "metadata": {},
   "source": [
    "**5. Which states have had fewer than 3 democratic victories (i.e. fewer than 3 elections where the democrats got the majority of the votes in that state) since 1952?**"
   ]
  },
  {
   "cell_type": "code",
   "execution_count": 215,
   "id": "71ee8c98-c347-4d7d-b5ab-7da615cdf514",
   "metadata": {},
   "outputs": [
    {
     "name": "stdout",
     "output_type": "stream",
     "text": [
      "   State  num_democratic_victories\n",
      "0     AK                         1\n",
      "1     AZ                         1\n",
      "2     ID                         1\n",
      "3     IN                         2\n",
      "4     KS                         1\n",
      "5     MT                         2\n",
      "6     ND                         1\n",
      "7     NE                         1\n",
      "8     OK                         1\n",
      "9     SD                         1\n",
      "10    UT                         1\n",
      "11    WY                         1\n"
     ]
    }
   ],
   "source": [
    "query = \"\"\"\n",
    "SELECT\n",
    "    State,\n",
    "    count(Winner) AS num_democratic_victories\n",
    "FROM (SELECT\n",
    "    State,\n",
    "    CASE\n",
    "        WHEN Democrat > Republican THEN \"DEMO\"\n",
    "        ELSE \"REPU\"\n",
    "    END AS Winner\n",
    "    FROM election)\n",
    "WHERE Winner LIKE \"DEMO\"\n",
    "GROUP BY State\n",
    "HAVING num_democratic_victories < 3\n",
    "\n",
    "\n",
    "\"\"\"\n",
    "\n",
    "result =  pd.read_sql_query(query, conn_5)\n",
    "print(result)"
   ]
  },
  {
   "cell_type": "markdown",
   "id": "0e48ea58-4ebc-4f95-848f-7ade45d77364",
   "metadata": {},
   "source": [
    "**6. Which states have had fewer than 3 republican victories since 1952?**"
   ]
  },
  {
   "cell_type": "code",
   "execution_count": 225,
   "id": "5e4d55d5-e809-4760-a3ec-de6da4c92522",
   "metadata": {},
   "outputs": [
    {
     "name": "stdout",
     "output_type": "stream",
     "text": [
      "  State  num_democratic_victories\n",
      "0    HI                         2\n"
     ]
    }
   ],
   "source": [
    "query = \"\"\"\n",
    "SELECT\n",
    "    State,\n",
    "    count(Winner) AS num_democratic_victories\n",
    "FROM (SELECT\n",
    "    State,\n",
    "    CASE\n",
    "        WHEN Democrat > Republican THEN \"DEMO\"\n",
    "        ELSE \"REPU\"\n",
    "    END AS Winner\n",
    "    FROM election)\n",
    "WHERE Winner LIKE \"REPU\"\n",
    "GROUP BY State\n",
    "HAVING num_democratic_victories < 3 OR num_democratic_victories IS NULL\n",
    "\n",
    "\n",
    "\"\"\"\n",
    "\n",
    "result =  pd.read_sql_query(query, conn_5)\n",
    "print(result)"
   ]
  },
  {
   "cell_type": "markdown",
   "id": "6112da44-2b20-49cd-9434-86716a9e0912",
   "metadata": {},
   "source": [
    "**7. We are interested in measuring the partisanship of the states. We will define a partisan state as one that is consistently won by a single party (either Democrat or Republican) since 1988. For example, since 1988 California has been won by the republicans once, and won by the democrats 7 times. Under this metric, California would be considered \"partisan\". (Note that if we include elections back to 1952, the republicans have won CA 9 times, and democrats have only won it 8 times).**\n",
    "\n",
    "**Find the states where all of the elections since 1988 (including 1988) have been won by the same party**"
   ]
  },
  {
   "cell_type": "code",
   "execution_count": 253,
   "id": "4fbe0454-25d4-462b-b619-0bef1fc28618",
   "metadata": {},
   "outputs": [
    {
     "name": "stdout",
     "output_type": "stream",
     "text": [
      "   State Winner\n",
      "0     AK    Rep\n",
      "1     AL    Rep\n",
      "2     DC   Demo\n",
      "3     HI   Demo\n",
      "4     ID    Rep\n",
      "5     KS    Rep\n",
      "6     MA   Demo\n",
      "7     MN   Demo\n",
      "8     MS    Rep\n",
      "9     ND    Rep\n",
      "10    NE    Rep\n",
      "11    NY   Demo\n",
      "12    OK    Rep\n",
      "13    OR   Demo\n",
      "14    RI   Demo\n",
      "15    SC    Rep\n",
      "16    SD    Rep\n",
      "17    TX    Rep\n",
      "18    UT    Rep\n",
      "19    WA   Demo\n",
      "20    WY    Rep\n"
     ]
    }
   ],
   "source": [
    "query = \"\"\"\n",
    "SELECT\n",
    "    State,\n",
    "    CASE\n",
    "        WHEN Total_Dem = 8 THEN \"Demo\"\n",
    "        WHEN Total_Rep = 8 THEN \"Rep\"\n",
    "        END AS Winner\n",
    "FROM (SELECT\n",
    "        State,\n",
    "        SUM(CASE WHEN Democrat > Republican THEN 1 END) AS Total_Dem,\n",
    "        SUM(CASE WHEN Republican > Democrat THEN 1 END)  AS Total_Rep\n",
    "    FROM election\n",
    "    WHERE Year >= \"1988\"\n",
    "    GROUP BY State)\n",
    "WHERE Winner IS NOT Null\n",
    "\n",
    "\n",
    "\n",
    "\"\"\"\n",
    "\n",
    "result =  pd.read_sql_query(query, conn_5)\n",
    "print(result)"
   ]
  }
 ],
 "metadata": {
  "kernelspec": {
   "display_name": "Python 3 (ipykernel)",
   "language": "python",
   "name": "python3"
  },
  "language_info": {
   "codemirror_mode": {
    "name": "ipython",
    "version": 3
   },
   "file_extension": ".py",
   "mimetype": "text/x-python",
   "name": "python",
   "nbconvert_exporter": "python",
   "pygments_lexer": "ipython3",
   "version": "3.12.4"
  }
 },
 "nbformat": 4,
 "nbformat_minor": 5
}
