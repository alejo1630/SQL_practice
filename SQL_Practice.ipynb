{
 "cells": [
  {
   "cell_type": "markdown",
   "id": "c9454bbc-93b4-4ffe-93a9-d5bb71985760",
   "metadata": {},
   "source": [
    "# SQL Practice\n",
    "\n",
    "The dataset and exercises are from [kiwidamien repository](https://github.com/kiwidamien/SQL_practice)"
   ]
  },
  {
   "cell_type": "code",
   "execution_count": 3,
   "id": "2d439fbb-11fd-4fba-9779-205819555b45",
   "metadata": {},
   "outputs": [],
   "source": [
    "import pandas as pd\n",
    "from pandasql import sqldf\n",
    "import sqlite3\n",
    "import math"
   ]
  },
  {
   "cell_type": "code",
   "execution_count": 4,
   "id": "58cdcb39-2728-45a5-a2de-00510574da56",
   "metadata": {},
   "outputs": [],
   "source": [
    "pysqldf = lambda q: sqldf(q, globals())"
   ]
  },
  {
   "cell_type": "markdown",
   "id": "a62d8e7b-5e19-407f-beb2-fd5f8565e133",
   "metadata": {},
   "source": [
    "## 1. Seattle Weather"
   ]
  },
  {
   "cell_type": "code",
   "execution_count": 6,
   "id": "dcf38e24-5c04-4e7e-8f49-3f0f3ff94889",
   "metadata": {},
   "outputs": [
    {
     "data": {
      "text/plain": [
       "25548"
      ]
     },
     "execution_count": 6,
     "metadata": {},
     "output_type": "execute_result"
    }
   ],
   "source": [
    "weather = pd.read_csv(\"01_seattle_weather/cleaned_weather.csv\")\n",
    "conn_1 = sqlite3.connect(\":memory:\")\n",
    "weather.to_sql('weather', conn_1, index=False)\n"
   ]
  },
  {
   "cell_type": "markdown",
   "id": "914e6ea9-b312-4e6e-8c6f-16972352c46c",
   "metadata": {},
   "source": [
    "**1. Select all rows from December 1st, 2000 to December 15th, 2000 (inclusive)**"
   ]
  },
  {
   "cell_type": "code",
   "execution_count": 8,
   "id": "d89cfefe-4868-43bb-97c5-643378854db8",
   "metadata": {},
   "outputs": [
    {
     "name": "stdout",
     "output_type": "stream",
     "text": [
      "          DATE  PRCP  TMAX  TMIN  RAIN\n",
      "0   2000-12-01  0.04    55    39     1\n",
      "1   2000-12-02  0.18    51    37     1\n",
      "2   2000-12-03  0.00    44    34     0\n",
      "3   2000-12-04  0.00    51    37     0\n",
      "4   2000-12-05  0.00    50    36     0\n",
      "5   2000-12-06  0.00    50    35     0\n",
      "6   2000-12-07  0.00    40    34     0\n",
      "7   2000-12-08  0.02    45    30     1\n",
      "8   2000-12-09  0.06    43    36     1\n",
      "9   2000-12-10  0.00    40    30     0\n",
      "10  2000-12-11  0.00    37    28     0\n",
      "11  2000-12-12  0.00    37    28     0\n",
      "12  2000-12-13  0.00    37    30     0\n",
      "13  2000-12-14  0.26    46    28     1\n",
      "14  2000-12-15  0.00    42    35     0\n"
     ]
    }
   ],
   "source": [
    "query = \"\"\"\n",
    "SELECT *\n",
    "FROM weather\n",
    "WHERE DATE >= \"2000-12-01\"\n",
    "AND DATE <= \"2000-12-15\"\n",
    "\"\"\"\n",
    "\n",
    "result =  pd.read_sql_query(query, conn_1)\n",
    "print(result)"
   ]
  },
  {
   "cell_type": "markdown",
   "id": "19e4124a-7934-4282-b0a9-c7078d2ae93e",
   "metadata": {},
   "source": [
    "**2. Get the average maximum temperature for every year from the year 2000 onward. Order the results by year (ascending)**"
   ]
  },
  {
   "cell_type": "code",
   "execution_count": 10,
   "id": "0856422c-7506-41cb-b26d-8862847b4e16",
   "metadata": {},
   "outputs": [
    {
     "name": "stdout",
     "output_type": "stream",
     "text": [
      "    YEAR  AVG(TMAX)\n",
      "0   2000  58.674863\n",
      "1   2001  58.473973\n",
      "2   2002  58.893151\n",
      "3   2003  60.441096\n",
      "4   2004  60.622951\n",
      "5   2005  60.148352\n",
      "6   2006  61.038356\n",
      "7   2007  59.202740\n",
      "8   2008  58.494536\n",
      "9   2009  59.912329\n",
      "10  2010  59.663014\n",
      "11  2011  58.139726\n",
      "12  2012  59.502732\n",
      "13  2013  60.901370\n",
      "14  2014  62.594521\n",
      "15  2015  63.369863\n",
      "16  2016  62.546448\n",
      "17  2017  61.727011\n"
     ]
    }
   ],
   "source": [
    "query = \"\"\"\n",
    "SELECT STRFTIME('%Y', DATE) AS YEAR,\n",
    "AVG(TMAX)\n",
    "FROM weather\n",
    "GROUP BY YEAR\n",
    "HAVING YEAR >= \"2000\"\n",
    "\"\"\"\n",
    "\n",
    "result =  pd.read_sql_query(query, conn_1)\n",
    "print(result)"
   ]
  },
  {
   "cell_type": "markdown",
   "id": "ac1c9290-7257-4e48-99da-4e0100872c86",
   "metadata": {},
   "source": [
    "**3 Get the standard deviation of the maximum temperature per year, from 2000 onward. Order by year (ascending)**"
   ]
  },
  {
   "cell_type": "code",
   "execution_count": 12,
   "id": "c966aab5-ae72-44dc-8cff-3b9b7865c0d1",
   "metadata": {},
   "outputs": [],
   "source": [
    "conn_1.create_function(\"SQRT\", 1, math.sqrt)"
   ]
  },
  {
   "cell_type": "code",
   "execution_count": 13,
   "id": "a6325d42-3732-4d97-a791-6006092a622b",
   "metadata": {},
   "outputs": [
    {
     "name": "stdout",
     "output_type": "stream",
     "text": [
      "    YEAR  mean_TMAX  variance_TMAX  standard_deviation_TMAX\n",
      "0   2000  58.674863     131.574614                11.470598\n",
      "1   2001  58.473973     124.545213                11.159983\n",
      "2   2002  58.893151     151.026939                12.289302\n",
      "3   2003  60.441096     165.238311                12.854505\n",
      "4   2004  60.622951     158.606468                12.593906\n",
      "5   2005  60.148352     141.054915                11.876654\n",
      "6   2006  61.038356     169.790310                13.030361\n",
      "7   2007  59.202740     166.391773                12.899294\n",
      "8   2008  58.494536     168.463085                12.979333\n",
      "9   2009  59.912329     202.019711                14.213364\n",
      "10  2010  59.663014     124.196029                11.144327\n",
      "11  2011  58.139726     154.635271                12.435243\n",
      "12  2012  59.502732     161.954911                12.726151\n",
      "13  2013  60.901370     184.516299                13.583678\n",
      "14  2014  62.594521     170.723258                13.066111\n",
      "15  2015  63.369863     173.285119                13.163781\n",
      "16  2016  62.546448     159.619427                12.634058\n",
      "17  2017  61.727011     200.928351                14.174920\n"
     ]
    }
   ],
   "source": [
    "query = \"\"\"\n",
    "SELECT \n",
    "    STRFTIME('%Y', DATE) AS YEAR,\n",
    "    AVG(TMAX) AS mean_TMAX,\n",
    "    AVG(TMAX * TMAX) - AVG(TMAX) * AVG(TMAX) AS variance_TMAX,\n",
    "    SQRT(AVG(TMAX * TMAX) - AVG(TMAX) * AVG(TMAX)) AS standard_deviation_TMAX\n",
    "FROM weather\n",
    "GROUP BY YEAR\n",
    "HAVING YEAR >= \"2000\"\n",
    "\"\"\"\n",
    "\n",
    "result =  pd.read_sql_query(query, conn_1)\n",
    "print(result)"
   ]
  },
  {
   "cell_type": "markdown",
   "id": "c5fa0ddc-049d-42d7-b507-b372d8ccfc1e",
   "metadata": {},
   "source": [
    "**4. What are the 10 hottest days on record? Take hottest to mean 'highest maximum temperature'**"
   ]
  },
  {
   "cell_type": "code",
   "execution_count": 29,
   "id": "2ff4b739-91b4-4664-8bca-bf2a176091ae",
   "metadata": {},
   "outputs": [
    {
     "name": "stdout",
     "output_type": "stream",
     "text": [
      "         DATE  PRCP  TMAX  TMIN  RAIN\n",
      "0  2009-07-29   0.0   103    71     0\n",
      "1  1994-07-20   0.0   100    65     0\n",
      "2  1960-08-09   0.0    99    59     0\n",
      "3  1981-08-09   0.0    99    68     0\n",
      "4  1991-07-23   0.0    99    65     0\n",
      "5  1960-08-08   0.0    98    66     0\n",
      "6  1967-08-16   0.0    98    59     0\n",
      "7  1979-07-16   0.0    98    63     0\n",
      "8  1981-08-10   0.0    98    67     0\n",
      "9  1988-09-02   0.0    98    59     0\n"
     ]
    }
   ],
   "source": [
    "query = \"\"\"\n",
    "SELECT *\n",
    "FROM weather\n",
    "ORDER BY TMAX DESC\n",
    "LIMIT 10\n",
    "\"\"\"\n",
    "\n",
    "result =  pd.read_sql_query(query, conn_1)\n",
    "print(result)"
   ]
  },
  {
   "cell_type": "markdown",
   "id": "6407b2f6-5acc-465c-9f8c-db154ca22303",
   "metadata": {},
   "source": [
    "**5. In 2016, what fraction of days did it rain?**"
   ]
  },
  {
   "cell_type": "code",
   "execution_count": 38,
   "id": "9a4fcb39-ff8e-4786-a8d6-b1678184adc7",
   "metadata": {},
   "outputs": [
    {
     "name": "stdout",
     "output_type": "stream",
     "text": [
      "   rain_fraction_2016\n",
      "0            0.469945\n"
     ]
    }
   ],
   "source": [
    "query = \"\"\"\n",
    "SELECT AVG(RAIN) AS rain_fraction_2016\n",
    "FROM weather\n",
    "WHERE DATE >= \"2016-01-01\"\n",
    "AND DATE <= \"2016-12-31\"\n",
    "\"\"\"\n",
    "\n",
    "result =  pd.read_sql_query(query, conn_1)\n",
    "print(result)"
   ]
  },
  {
   "cell_type": "markdown",
   "id": "4240ef6b-17d4-41b1-a3d3-c66ee51353ad",
   "metadata": {},
   "source": [
    "**6. What is the 75th percentile for the amount of rain that fell on a day where there was some rain in 2016?**"
   ]
  },
  {
   "cell_type": "code",
   "execution_count": 67,
   "id": "383bb63d-883a-48a9-a006-8ae9d60bf03c",
   "metadata": {},
   "outputs": [
    {
     "name": "stdout",
     "output_type": "stream",
     "text": [
      "   PRCP\n",
      "0  0.33\n"
     ]
    }
   ],
   "source": [
    "query = \"\"\"\n",
    "SELECT PRCP\n",
    "FROM (\n",
    "    SELECT PRCP\n",
    "    FROM weather\n",
    "    WHERE \n",
    "        PRCP > 0 AND\n",
    "        STRFTIME('%Y', DATE) = '2016'\n",
    "    ORDER BY PRCP\n",
    "    LIMIT 1 OFFSET (\n",
    "        (SELECT COUNT(*) * 0.75 \n",
    "         FROM weather\n",
    "         WHERE PRCP > 0 AND STRFTIME('%Y', DATE) = '2016')\n",
    "    )\n",
    ") AS sub\n",
    "\"\"\"\n",
    "\n",
    "result =  pd.read_sql_query(query, conn_1)\n",
    "print(result)"
   ]
  },
  {
   "cell_type": "markdown",
   "id": "d16e9c68-12f2-48d5-a191-fce341ed90bc",
   "metadata": {},
   "source": [
    "**7. What is the 75th percentile for the amount of rain that fell on any day in 2016?**"
   ]
  },
  {
   "cell_type": "code",
   "execution_count": 127,
   "id": "52796e7a-c4bc-4fb2-a838-ddd0864e2fd6",
   "metadata": {},
   "outputs": [
    {
     "name": "stdout",
     "output_type": "stream",
     "text": [
      "   PRCP\n",
      "0  0.15\n"
     ]
    }
   ],
   "source": [
    "query = \"\"\"\n",
    "SELECT PRCP\n",
    "    FROM weather\n",
    "    WHERE \n",
    "        STRFTIME('%Y', DATE) = '2016'\n",
    "    ORDER BY PRCP\n",
    "    LIMIT 1 OFFSET ROUND((SELECT COUNT(*) * 0.75 \n",
    "         FROM weather\n",
    "         WHERE STRFTIME('%Y', DATE) = '2016'))\n",
    "    \n",
    "\"\"\"\n",
    "\n",
    "result =  pd.read_sql_query(query, conn_1)\n",
    "print(result)"
   ]
  },
  {
   "cell_type": "markdown",
   "id": "03990658-de1b-4892-be0a-67d3ef6a3b31",
   "metadata": {},
   "source": [
    "**8. Get the 10 years with the hottest average maximum temperature in July. Order from hottest to coolest**"
   ]
  },
  {
   "cell_type": "code",
   "execution_count": 168,
   "id": "008c840b-cff9-4bdf-b04c-775ffe3a3105",
   "metadata": {},
   "outputs": [
    {
     "name": "stdout",
     "output_type": "stream",
     "text": [
      "   YEAR  avg_july_high_temp\n",
      "0  2015           82.580645\n",
      "1  1958           81.419355\n",
      "2  2009           80.967742\n",
      "3  1985           80.935484\n",
      "4  2014           80.419355\n",
      "5  1960           79.645161\n",
      "6  1965           79.451613\n",
      "7  1990           79.193548\n",
      "8  2013           78.967742\n",
      "9  2003           78.967742\n"
     ]
    }
   ],
   "source": [
    "query = \"\"\"\n",
    "SELECT \n",
    "    STRFTIME('%Y', DATE) AS YEAR,\n",
    "    AVG(TMAX) AS avg_july_high_temp\n",
    "FROM weather   \n",
    "WHERE STRFTIME('%m', DATE) = \"07\"\n",
    "GROUP BY YEAR\n",
    "ORDER BY avg_july_high_temp DESC\n",
    "LIMIT 10\n",
    "\"\"\"\n",
    "\n",
    "result =  pd.read_sql_query(query, conn_1)\n",
    "print(result)"
   ]
  },
  {
   "cell_type": "markdown",
   "id": "ccac2213-4831-4a46-ae4d-3af8d3db875d",
   "metadata": {},
   "source": [
    "**9. Get the 10 years with the coldest average minimum temperature in December. Order from coolest to hottest**"
   ]
  },
  {
   "cell_type": "code",
   "execution_count": 175,
   "id": "db510cbd-b0a8-4463-b158-a67cf95dd4bd",
   "metadata": {},
   "outputs": [
    {
     "name": "stdout",
     "output_type": "stream",
     "text": [
      "   YEAR  avg_dec_min_temp\n",
      "0  1990         30.387097\n",
      "1  1948         30.806452\n",
      "2  1985         30.935484\n",
      "3  1951         31.225806\n",
      "4  1964         31.483871\n",
      "5  1983         31.516129\n",
      "6  1968         32.032258\n",
      "7  1984         32.096774\n",
      "8  2009         32.096774\n",
      "9  1978         32.161290\n"
     ]
    }
   ],
   "source": [
    "query = \"\"\"\n",
    "SELECT \n",
    "    STRFTIME('%Y', DATE) AS YEAR,\n",
    "    AVG(TMIN) AS avg_dec_min_temp\n",
    "FROM weather   \n",
    "WHERE STRFTIME('%m', DATE) = \"12\"\n",
    "GROUP BY YEAR\n",
    "ORDER BY avg_dec_min_temp ASC\n",
    "LIMIT 10\n",
    "\"\"\"\n",
    "\n",
    "result =  pd.read_sql_query(query, conn_1)\n",
    "print(result)"
   ]
  },
  {
   "cell_type": "markdown",
   "id": "9d5ea517-4fca-441e-8321-a4344e0c3f65",
   "metadata": {},
   "source": [
    "**10. Repeat the last question, but round the temperatures to 3 decimal places**"
   ]
  },
  {
   "cell_type": "code",
   "execution_count": 181,
   "id": "01ebb5cc-b6ba-4604-8f1a-a1e5b791a01b",
   "metadata": {},
   "outputs": [
    {
     "name": "stdout",
     "output_type": "stream",
     "text": [
      "   YEAR  avg_dec_min_temp\n",
      "0  1990            30.387\n",
      "1  1948            30.806\n",
      "2  1985            30.935\n",
      "3  1951            31.226\n",
      "4  1964            31.484\n",
      "5  1983            31.516\n",
      "6  1968            32.032\n",
      "7  1984            32.097\n",
      "8  2009            32.097\n",
      "9  1978            32.161\n"
     ]
    }
   ],
   "source": [
    "query = \"\"\"\n",
    "SELECT \n",
    "    STRFTIME('%Y', DATE) AS YEAR,\n",
    "    ROUND(AVG(TMIN), 3) AS avg_dec_min_temp\n",
    "FROM weather   \n",
    "WHERE STRFTIME('%m', DATE) = \"12\"\n",
    "GROUP BY YEAR\n",
    "ORDER BY avg_dec_min_temp ASC\n",
    "LIMIT 10\n",
    "\"\"\"\n",
    "\n",
    "result =  pd.read_sql_query(query, conn_1)\n",
    "print(result)"
   ]
  },
  {
   "cell_type": "markdown",
   "id": "96058010-c287-4018-92fa-51f2076f2c15",
   "metadata": {},
   "source": [
    "**11. Give the average inches of rain that fell per day for each month, where the average is taken over 2000 - 2010 (inclusive)**"
   ]
  },
  {
   "cell_type": "code",
   "execution_count": 234,
   "id": "43abf808-a713-4dac-8cfb-2996b2801be1",
   "metadata": {},
   "outputs": [
    {
     "name": "stdout",
     "output_type": "stream",
     "text": [
      "   month  avg_daily_inches_rain\n",
      "0     01               0.191613\n",
      "1     02               0.094277\n",
      "2     03               0.113578\n",
      "3     04               0.085364\n",
      "4     05               0.068035\n",
      "5     06               0.050182\n",
      "6     07               0.016129\n",
      "7     08               0.034370\n",
      "8     09               0.056930\n",
      "9     10               0.115543\n",
      "10    11               0.216242\n",
      "11    12               0.180059\n"
     ]
    }
   ],
   "source": [
    "query = \"\"\"\n",
    "SELECT\n",
    "    STRFTIME('%m', DATE) AS month,\n",
    "    AVG(PRCP) as avg_daily_inches_rain\n",
    "FROM weather\n",
    "WHERE STRFTIME('%Y', DATE) >= \"2000\" AND STRFTIME('%Y', DATE) <= \"2010\"\n",
    "GROUP BY month\n",
    "ORDER BY month ASC\n",
    "\"\"\"\n",
    "\n",
    "result =  pd.read_sql_query(query, conn_1)\n",
    "print(result)"
   ]
  }
 ],
 "metadata": {
  "kernelspec": {
   "display_name": "Python 3 (ipykernel)",
   "language": "python",
   "name": "python3"
  },
  "language_info": {
   "codemirror_mode": {
    "name": "ipython",
    "version": 3
   },
   "file_extension": ".py",
   "mimetype": "text/x-python",
   "name": "python",
   "nbconvert_exporter": "python",
   "pygments_lexer": "ipython3",
   "version": "3.12.4"
  }
 },
 "nbformat": 4,
 "nbformat_minor": 5
}
